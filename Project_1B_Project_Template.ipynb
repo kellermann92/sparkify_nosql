{
 "cells": [
  {
   "cell_type": "markdown",
   "metadata": {},
   "source": [
    "# Part I. ETL Pipeline for Pre-Processing the Files"
   ]
  },
  {
   "cell_type": "markdown",
   "metadata": {},
   "source": [
    "## PLEASE RUN THE FOLLOWING CODE FOR PRE-PROCESSING THE FILES"
   ]
  },
  {
   "cell_type": "markdown",
   "metadata": {},
   "source": [
    "#### Import Python packages "
   ]
  },
  {
   "cell_type": "code",
   "execution_count": 1,
   "metadata": {
    "execution": {
     "iopub.execute_input": "2021-03-14T17:47:52.833231Z",
     "iopub.status.busy": "2021-03-14T17:47:52.830074Z",
     "iopub.status.idle": "2021-03-14T17:47:53.272323Z",
     "shell.execute_reply": "2021-03-14T17:47:53.271324Z",
     "shell.execute_reply.started": "2021-03-14T17:47:52.832302Z"
    }
   },
   "outputs": [],
   "source": [
    "# Import Python packages \n",
    "import pandas as pd\n",
    "import cassandra\n",
    "import re\n",
    "import os\n",
    "import glob\n",
    "import numpy as np\n",
    "import json\n",
    "import csv"
   ]
  },
  {
   "cell_type": "markdown",
   "metadata": {},
   "source": [
    "#### Creating list of filepaths to process original event csv data files"
   ]
  },
  {
   "cell_type": "code",
   "execution_count": 2,
   "metadata": {
    "execution": {
     "iopub.execute_input": "2021-03-14T17:47:53.275277Z",
     "iopub.status.busy": "2021-03-14T17:47:53.274751Z",
     "iopub.status.idle": "2021-03-14T17:47:53.290303Z",
     "shell.execute_reply": "2021-03-14T17:47:53.286746Z",
     "shell.execute_reply.started": "2021-03-14T17:47:53.275220Z"
    }
   },
   "outputs": [
    {
     "name": "stdout",
     "output_type": "stream",
     "text": [
      "/home/kellermann/git_repo/sparkify_nosql\n"
     ]
    }
   ],
   "source": [
    "# checking your current working directory\n",
    "print(os.getcwd())\n",
    "\n",
    "# Get your current folder and subfolder event data\n",
    "filepath = os.getcwd() + '/event_data'\n",
    "\n",
    "# Create a for loop to create a list of files and collect each filepath\n",
    "for root, dirs, files in os.walk(filepath):\n",
    "# join the file path and roots with the subdirectories using glob\n",
    "    file_path_list = glob.glob(os.path.join(root,'*'))\n",
    "    #print(file_path_list)"
   ]
  },
  {
   "cell_type": "markdown",
   "metadata": {},
   "source": [
    "#### Processing the files to create the data file csv that will be used for Apache Casssandra tables"
   ]
  },
  {
   "cell_type": "code",
   "execution_count": 3,
   "metadata": {
    "execution": {
     "iopub.execute_input": "2021-03-14T17:47:53.295185Z",
     "iopub.status.busy": "2021-03-14T17:47:53.294751Z",
     "iopub.status.idle": "2021-03-14T17:47:53.418430Z",
     "shell.execute_reply": "2021-03-14T17:47:53.417688Z",
     "shell.execute_reply.started": "2021-03-14T17:47:53.295133Z"
    }
   },
   "outputs": [],
   "source": [
    "# initiating an empty list of rows that will be generated from each file\n",
    "full_data_rows_list = [] \n",
    "    \n",
    "# for every filepath in the file path list \n",
    "for f in file_path_list:\n",
    "\n",
    "# reading csv file \n",
    "    with open(f, 'r', encoding = 'utf8', newline='') as csvfile: \n",
    "        # creating a csv reader object \n",
    "        csvreader = csv.reader(csvfile) \n",
    "        next(csvreader)\n",
    "        \n",
    " # extracting each data row one by one and append it        \n",
    "        for line in csvreader:\n",
    "            #print(line)\n",
    "            full_data_rows_list.append(line) \n",
    "            \n",
    "# uncomment the code below if you would like to get total number of rows \n",
    "#print(len(full_data_rows_list))\n",
    "# uncomment the code below if you would like to check to see what the list of event data rows will look like\n",
    "#print(full_data_rows_list)\n",
    "\n",
    "# creating a smaller event data csv file called event_datafile_full csv that will be used to insert data into the \\\n",
    "# Apache Cassandra tables\n",
    "csv.register_dialect('myDialect', quoting=csv.QUOTE_ALL, skipinitialspace=True)\n",
    "\n",
    "with open('event_datafile_new.csv', 'w', encoding = 'utf8', newline='') as f:\n",
    "    writer = csv.writer(f, dialect='myDialect')\n",
    "    writer.writerow(['artist','firstName','gender','itemInSession','lastName','length',\\\n",
    "                'level','location','sessionId','song','userId'])\n",
    "    for row in full_data_rows_list:\n",
    "        if (row[0] == ''):\n",
    "            continue\n",
    "        writer.writerow((row[0], row[2], row[3], row[4], row[5], row[6], row[7], row[8], row[12], row[13], row[16]))\n"
   ]
  },
  {
   "cell_type": "code",
   "execution_count": 4,
   "metadata": {
    "execution": {
     "iopub.execute_input": "2021-03-14T17:47:53.419797Z",
     "iopub.status.busy": "2021-03-14T17:47:53.419581Z",
     "iopub.status.idle": "2021-03-14T17:47:53.434440Z",
     "shell.execute_reply": "2021-03-14T17:47:53.432268Z",
     "shell.execute_reply.started": "2021-03-14T17:47:53.419770Z"
    }
   },
   "outputs": [
    {
     "name": "stdout",
     "output_type": "stream",
     "text": [
      "6821\n"
     ]
    }
   ],
   "source": [
    "# check the number of rows in your csv file\n",
    "with open('event_datafile_new.csv', 'r', encoding = 'utf8') as f:\n",
    "    print(sum(1 for line in f))"
   ]
  },
  {
   "cell_type": "markdown",
   "metadata": {},
   "source": [
    "# Part II. Complete the Apache Cassandra coding portion of your project. \n",
    "\n",
    "## Now you are ready to work with the CSV file titled <font color=red>event_datafile_new.csv</font>, located within the Workspace directory.  The event_datafile_new.csv contains the following columns: \n",
    "- artist \n",
    "- firstName of user\n",
    "- gender of user\n",
    "- item number in session\n",
    "- last name of user\n",
    "- length of the song\n",
    "- level (paid or free song)\n",
    "- location of the user\n",
    "- sessionId\n",
    "- song title\n",
    "- userId\n",
    "\n",
    "The image below is a screenshot of what the denormalized data should appear like in the <font color=red>**event_datafile_new.csv**</font> after the code above is run:<br>\n",
    "\n",
    "<img src=\"images/image_event_datafile_new.jpg\">"
   ]
  },
  {
   "cell_type": "markdown",
   "metadata": {},
   "source": [
    "## Begin writing your Apache Cassandra code in the cells below"
   ]
  },
  {
   "cell_type": "markdown",
   "metadata": {},
   "source": [
    "#### Creating a Cluster"
   ]
  },
  {
   "cell_type": "code",
   "execution_count": 5,
   "metadata": {
    "execution": {
     "iopub.execute_input": "2021-03-14T17:47:53.436632Z",
     "iopub.status.busy": "2021-03-14T17:47:53.436261Z",
     "iopub.status.idle": "2021-03-14T17:47:53.654167Z",
     "shell.execute_reply": "2021-03-14T17:47:53.653373Z",
     "shell.execute_reply.started": "2021-03-14T17:47:53.436589Z"
    }
   },
   "outputs": [],
   "source": [
    "# This should make a connection to a Cassandra instance your local machine \n",
    "# (127.0.0.1)\n",
    "\n",
    "from cassandra.cluster import Cluster\n",
    "cluster = Cluster()\n",
    "\n",
    "# To establish connection and begin executing queries, need a session\n",
    "session = cluster.connect()"
   ]
  },
  {
   "cell_type": "markdown",
   "metadata": {},
   "source": [
    "#### Create Keyspace"
   ]
  },
  {
   "cell_type": "code",
   "execution_count": 6,
   "metadata": {
    "execution": {
     "iopub.execute_input": "2021-03-14T17:47:53.655871Z",
     "iopub.status.busy": "2021-03-14T17:47:53.655516Z",
     "iopub.status.idle": "2021-03-14T17:47:53.674641Z",
     "shell.execute_reply": "2021-03-14T17:47:53.673256Z",
     "shell.execute_reply.started": "2021-03-14T17:47:53.655828Z"
    }
   },
   "outputs": [
    {
     "data": {
      "text/plain": [
       "<cassandra.cluster.ResultSet at 0x7f9b8064d4c0>"
      ]
     },
     "execution_count": 6,
     "metadata": {},
     "output_type": "execute_result"
    }
   ],
   "source": [
    "# TO-DO: Create a Keyspace \n",
    "set_ks = 'sparkify_ks'\n",
    "create_keyspace = \"\"\"create keyspace if not exists %s with replication = {'class': 'SimpleStrategy', 'replication_factor':1}\"\"\"%(set_ks)\n",
    "session.execute(create_keyspace)"
   ]
  },
  {
   "cell_type": "markdown",
   "metadata": {},
   "source": [
    "#### Set Keyspace"
   ]
  },
  {
   "cell_type": "code",
   "execution_count": 7,
   "metadata": {
    "execution": {
     "iopub.execute_input": "2021-03-14T17:47:53.676957Z",
     "iopub.status.busy": "2021-03-14T17:47:53.676492Z",
     "iopub.status.idle": "2021-03-14T17:47:53.684853Z",
     "shell.execute_reply": "2021-03-14T17:47:53.683268Z",
     "shell.execute_reply.started": "2021-03-14T17:47:53.676908Z"
    }
   },
   "outputs": [],
   "source": [
    "# TO-DO: Set KEYSPACE to the keyspace specified above\n",
    "session.set_keyspace(set_ks)"
   ]
  },
  {
   "cell_type": "markdown",
   "metadata": {},
   "source": [
    "### Now we need to create tables to run the following queries. Remember, with Apache Cassandra you model the database tables on the queries you want to run."
   ]
  },
  {
   "cell_type": "markdown",
   "metadata": {},
   "source": [
    "## Create queries to ask the following three questions of the data\n",
    "\n",
    "### 1. Give me the artist, song title and song's length in the music app history that was heard during  sessionId = 338, and itemInSession  = 4\n",
    "\n",
    "\n",
    "### 2. Give me only the following: name of artist, song (sorted by itemInSession) and user (first and last name) for userid = 10, sessionid = 182\n",
    "    \n",
    "\n",
    "### 3. Give me every user name (first and last) in my music app history who listened to the song 'All Hands Against His Own'\n",
    "\n",
    "\n"
   ]
  },
  {
   "cell_type": "code",
   "execution_count": 8,
   "metadata": {
    "execution": {
     "iopub.execute_input": "2021-03-14T17:47:53.687829Z",
     "iopub.status.busy": "2021-03-14T17:47:53.686749Z",
     "iopub.status.idle": "2021-03-14T17:47:53.868628Z",
     "shell.execute_reply": "2021-03-14T17:47:53.863695Z",
     "shell.execute_reply.started": "2021-03-14T17:47:53.687763Z"
    }
   },
   "outputs": [
    {
     "data": {
      "text/plain": [
       "<cassandra.cluster.ResultSet at 0x7f9bb06e6a60>"
      ]
     },
     "execution_count": 8,
     "metadata": {},
     "output_type": "execute_result"
    }
   ],
   "source": [
    "## TO-DO: Query 1:  Give me the artist, song title and song's length in the music app history that was heard during \\\n",
    "## sessionId = 338, and itemInSession = 4 \n",
    "create1 = \"\"\"create table if not exists session( artist_name varchar\n",
    "                                                ,item_in_session smallint\n",
    "                                                ,song_length  float\n",
    "                                                ,session_id  smallint\n",
    "                                                ,song_title  varchar\n",
    "                                                ,primary key(session_id, item_in_session));\"\"\"\n",
    "session.execute(create1)"
   ]
  },
  {
   "cell_type": "code",
   "execution_count": 9,
   "metadata": {
    "execution": {
     "iopub.execute_input": "2021-03-14T17:47:53.875855Z",
     "iopub.status.busy": "2021-03-14T17:47:53.875151Z",
     "iopub.status.idle": "2021-03-14T17:47:57.958820Z",
     "shell.execute_reply": "2021-03-14T17:47:57.957495Z",
     "shell.execute_reply.started": "2021-03-14T17:47:53.875783Z"
    }
   },
   "outputs": [],
   "source": [
    "# We have provided part of the code to set up the CSV file. Please complete the Apache Cassandra code below#\n",
    "file = \"event_datafile_new.csv\"\n",
    "insert1 = \"insert into session(artist_name, item_in_session, song_length, session_id, song_title)\"\n",
    "\n",
    "with open(file, encoding = 'utf8') as f:\n",
    "    csvreader = csv.reader(f)\n",
    "    next(csvreader) # skip header\n",
    "    for line in csvreader:\n",
    "## TO-DO: Assign the INSERT statements into the `query` variable  \n",
    "        #  0 artist_name\n",
    "        #  1 user_first_name\n",
    "        #  2 gender\n",
    "        #  3 item_in_session\n",
    "        #  4 user_last_name\n",
    "        #  5 song_length\n",
    "        #  6 level \n",
    "        #  7 location\n",
    "        #  8 session_id\n",
    "        #  9 song_title\n",
    "        #  10 user_id\n",
    "        query = insert1 + \" values(%s, %s, %s, %s, %s)\"\"\"\n",
    "        \n",
    "        ## TO-DO: Assign which column element should be assigned for each column in the INSERT statement.\n",
    "        ## For e.g., to INSERT artist_name and user first_name, you would change the code below to `line[0], line[1]`\n",
    "        session.execute(query, (line[0], int(line[3]), float(line[5]), int(line[8]), line[9]))"
   ]
  },
  {
   "cell_type": "markdown",
   "metadata": {},
   "source": [
    "#### Do a SELECT to verify that the data have been inserted into each table"
   ]
  },
  {
   "cell_type": "code",
   "execution_count": 10,
   "metadata": {
    "execution": {
     "iopub.execute_input": "2021-03-14T17:47:57.961803Z",
     "iopub.status.busy": "2021-03-14T17:47:57.961299Z",
     "iopub.status.idle": "2021-03-14T17:47:57.981760Z",
     "shell.execute_reply": "2021-03-14T17:47:57.976306Z",
     "shell.execute_reply.started": "2021-03-14T17:47:57.961745Z"
    },
    "scrolled": true
   },
   "outputs": [
    {
     "name": "stdout",
     "output_type": "stream",
     "text": [
      "\n",
      "    Artist: Faithless.\n",
      "    Song title: Music Matters (Mark Knight Dub).\n",
      "    Song length: 495.30731201171875.\n"
     ]
    }
   ],
   "source": [
    "## TO-DO: Add in the SELECT statement to verify the data was entered into the table\n",
    "select1 = \"select * from session where session_id = 338 and item_in_session = 4;\"\n",
    "results1 = session.execute(select1)\n",
    "for row in results1:\n",
    "    print(f\"\"\"\n",
    "    Artist: {row.artist_name}.\n",
    "    Song title: {row.song_title}.\n",
    "    Song length: {row.song_length}.\"\"\")"
   ]
  },
  {
   "cell_type": "markdown",
   "metadata": {},
   "source": [
    "### COPY AND REPEAT THE ABOVE THREE CELLS FOR EACH OF THE THREE QUESTIONS"
   ]
  },
  {
   "cell_type": "code",
   "execution_count": 11,
   "metadata": {
    "execution": {
     "iopub.execute_input": "2021-03-14T17:47:57.984432Z",
     "iopub.status.busy": "2021-03-14T17:47:57.983637Z",
     "iopub.status.idle": "2021-03-14T17:48:05.616556Z",
     "shell.execute_reply": "2021-03-14T17:48:05.615301Z",
     "shell.execute_reply.started": "2021-03-14T17:47:57.984371Z"
    }
   },
   "outputs": [],
   "source": [
    "## TO-DO: Query 2: Give me only the following: name of artist, song (sorted by itemInSession) and user (first and last name)\\\n",
    "## for userid = 10, sessionid = 182\n",
    "create2 = \"\"\"create table if not exists user_session(artist_name varchar\n",
    "                                                    ,song_title  varchar\n",
    "                                                    ,user_first_name  varchar\n",
    "                                                    ,user_last_name  varchar\n",
    "                                                    ,user_id  smallint\n",
    "                                                    ,session_id  smallint\n",
    "                                                    ,item_in_session smallint\n",
    "                                                    ,primary key((user_id, session_id), item_in_session));\"\"\"\n",
    "\n",
    "session.execute(create2)\n",
    "\n",
    "insert2 = \"insert into user_session(artist_name, song_title, user_first_name, user_last_name, user_id, session_id, item_in_session)\"\n",
    "with open(file, encoding = 'utf8') as f:\n",
    "    csvreader = csv.reader(f)\n",
    "    next(csvreader) # skip header\n",
    "    for line in csvreader:\n",
    "        #  0 artist_name\n",
    "        #  1 user_first_name\n",
    "        #  2 gender\n",
    "        #  3 item_in_session\n",
    "        #  4 user_last_name\n",
    "        #  5 song_length\n",
    "        #  6 level \n",
    "        #  7 location\n",
    "        #  8 session_id\n",
    "        #  9 song_title\n",
    "        #  10 user_id\n",
    "        query = insert2 + \" values(%s, %s, %s, %s, %s, %s, %s)\"\"\"\n",
    "        session.execute(query, (line[0], line[9], line[1], line[4], int(line[10]), int(line[8]), int(line[3])))"
   ]
  },
  {
   "cell_type": "code",
   "execution_count": 12,
   "metadata": {
    "execution": {
     "iopub.execute_input": "2021-03-14T17:48:05.617920Z",
     "iopub.status.busy": "2021-03-14T17:48:05.617663Z",
     "iopub.status.idle": "2021-03-14T17:48:05.635058Z",
     "shell.execute_reply": "2021-03-14T17:48:05.633739Z",
     "shell.execute_reply.started": "2021-03-14T17:48:05.617875Z"
    }
   },
   "outputs": [
    {
     "name": "stdout",
     "output_type": "stream",
     "text": [
      "\n",
      "    Artist: Down To The Bone.\n",
      "    Song title: Keep On Keepin' On.\n",
      "    User name: Sylvie Cruz.\n",
      "    User id: 10.\n",
      "    Session id: 182.\n",
      "    Item in session: 0.\n",
      "\n",
      "    Artist: Three Drives.\n",
      "    Song title: Greece 2000.\n",
      "    User name: Sylvie Cruz.\n",
      "    User id: 10.\n",
      "    Session id: 182.\n",
      "    Item in session: 1.\n",
      "\n",
      "    Artist: Sebastien Tellier.\n",
      "    Song title: Kilometer.\n",
      "    User name: Sylvie Cruz.\n",
      "    User id: 10.\n",
      "    Session id: 182.\n",
      "    Item in session: 2.\n",
      "\n",
      "    Artist: Lonnie Gordon.\n",
      "    Song title: Catch You Baby (Steve Pitron & Max Sanna Radio Edit).\n",
      "    User name: Sylvie Cruz.\n",
      "    User id: 10.\n",
      "    Session id: 182.\n",
      "    Item in session: 3.\n"
     ]
    }
   ],
   "source": [
    "# Validating:\n",
    "## for userid = 10, sessionid = 182\n",
    "select2 = \"select * from user_session where user_id = 10 and session_id = 182;\"\n",
    "results2 = session.execute(select2)\n",
    "for row in results2:\n",
    "    print(f\"\"\"\n",
    "    Artist: {row.artist_name}.\n",
    "    Song title: {row.song_title}.\n",
    "    User name: {row.user_first_name} {row.user_last_name}.\n",
    "    User id: {row.user_id}.\n",
    "    Session id: {row.session_id}.\n",
    "    Item in session: {row.item_in_session}.\"\"\")"
   ]
  },
  {
   "cell_type": "code",
   "execution_count": 13,
   "metadata": {
    "execution": {
     "iopub.execute_input": "2021-03-14T17:48:05.638444Z",
     "iopub.status.busy": "2021-03-14T17:48:05.637419Z",
     "iopub.status.idle": "2021-03-14T17:48:10.109824Z",
     "shell.execute_reply": "2021-03-14T17:48:10.109310Z",
     "shell.execute_reply.started": "2021-03-14T17:48:05.638350Z"
    }
   },
   "outputs": [],
   "source": [
    "create3 = \"\"\"create table if not exists user_history( user_id smallint\n",
    "                                             ,user_first_name  varchar\n",
    "                                             ,user_last_name  varchar\n",
    "                                             ,song_title  varchar\n",
    "                                             ,primary key((song_title), user_id));\"\"\"\n",
    "\n",
    "session.execute(create3)\n",
    "\n",
    "insert3 = \"insert into user_history(user_id, user_first_name, user_last_name, song_title)\"\n",
    "with open(file, encoding = 'utf8') as f:\n",
    "    csvreader = csv.reader(f)\n",
    "    next(csvreader) # skip header\n",
    "    for line in csvreader:\n",
    "        #  0 artist_name\n",
    "        #  1 user_first_name\n",
    "        #  2 gender\n",
    "        #  3 item_in_session\n",
    "        #  4 user_last_name\n",
    "        #  5 song_length\n",
    "        #  6 level \n",
    "        #  7 location\n",
    "        #  8 session_id\n",
    "        #  9 song_title\n",
    "        #  10 user_id\n",
    "        query = insert3 + \" values(%s, %s, %s, %s)\"\"\"\n",
    "        session.execute(query, (int(line[10]), line[1], line[4], line[9]))"
   ]
  },
  {
   "cell_type": "code",
   "execution_count": 14,
   "metadata": {
    "execution": {
     "iopub.execute_input": "2021-03-14T17:48:10.110698Z",
     "iopub.status.busy": "2021-03-14T17:48:10.110542Z",
     "iopub.status.idle": "2021-03-14T17:48:10.117955Z",
     "shell.execute_reply": "2021-03-14T17:48:10.117216Z",
     "shell.execute_reply.started": "2021-03-14T17:48:10.110678Z"
    }
   },
   "outputs": [
    {
     "name": "stdout",
     "output_type": "stream",
     "text": [
      "User name: Jacqueline Lynch.\n",
      "User name: Tegan Levine.\n",
      "User name: Sara Johnson.\n"
     ]
    }
   ],
   "source": [
    "# Validating:\n",
    "## Query 3: Give me every user name (first and last) in my music app history who listened to the song 'All Hands Against His Own'\n",
    "song_title = 'All Hands Against His Own'\n",
    "\n",
    "select3 = f\"\"\"select user_first_name, user_last_name from user_history where song_title = '{song_title}';\"\"\"\n",
    "results3 = session.execute(select3)\n",
    "for row in results3:\n",
    "    print(f\"\"\"User name: {row.user_first_name} {row.user_last_name}.\"\"\")"
   ]
  },
  {
   "cell_type": "markdown",
   "metadata": {},
   "source": [
    "### Drop the tables before closing out the sessions"
   ]
  },
  {
   "cell_type": "code",
   "execution_count": 15,
   "metadata": {
    "execution": {
     "iopub.execute_input": "2021-03-14T17:48:10.119023Z",
     "iopub.status.busy": "2021-03-14T17:48:10.118784Z",
     "iopub.status.idle": "2021-03-14T17:48:11.366049Z",
     "shell.execute_reply": "2021-03-14T17:48:11.365250Z",
     "shell.execute_reply.started": "2021-03-14T17:48:10.119002Z"
    }
   },
   "outputs": [
    {
     "data": {
      "text/plain": [
       "<cassandra.cluster.ResultSet at 0x7f9b7f573d00>"
      ]
     },
     "execution_count": 15,
     "metadata": {},
     "output_type": "execute_result"
    }
   ],
   "source": [
    "## TO-DO: Drop the table before closing out the sessions\n",
    "session.execute('drop table if exists session;')\n",
    "session.execute('drop table if exists user_session;')\n",
    "session.execute('drop table if exists user_history;')"
   ]
  },
  {
   "cell_type": "markdown",
   "metadata": {},
   "source": [
    "### Close the session and cluster connection¶"
   ]
  },
  {
   "cell_type": "code",
   "execution_count": 16,
   "metadata": {
    "execution": {
     "iopub.execute_input": "2021-03-14T17:48:11.367399Z",
     "iopub.status.busy": "2021-03-14T17:48:11.367122Z",
     "iopub.status.idle": "2021-03-14T17:48:11.451495Z",
     "shell.execute_reply": "2021-03-14T17:48:11.449298Z",
     "shell.execute_reply.started": "2021-03-14T17:48:11.367362Z"
    }
   },
   "outputs": [],
   "source": [
    "session.shutdown()\n",
    "cluster.shutdown()"
   ]
  },
  {
   "cell_type": "markdown",
   "metadata": {},
   "source": [
    "<center>end</center>"
   ]
  }
 ],
 "metadata": {
  "kernelspec": {
   "display_name": "Python 3",
   "language": "python",
   "name": "python3"
  },
  "language_info": {
   "codemirror_mode": {
    "name": "ipython",
    "version": 3
   },
   "file_extension": ".py",
   "mimetype": "text/x-python",
   "name": "python",
   "nbconvert_exporter": "python",
   "pygments_lexer": "ipython3",
   "version": "3.9.2"
  }
 },
 "nbformat": 4,
 "nbformat_minor": 4
}
