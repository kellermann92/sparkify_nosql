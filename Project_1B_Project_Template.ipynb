{
 "cells": [
  {
   "cell_type": "markdown",
   "metadata": {},
   "source": [
    "# **Part I. ETL Pipeline for Pre-Processing the Files**"
   ]
  },
  {
   "cell_type": "markdown",
   "metadata": {},
   "source": [
    "## Pre-processing the files\n",
    "---\n",
    "\n",
    "Here we are getting the sample files from `event_data` subdirectory to create an unique `.csv` file to be managed by Apache Cassandra."
   ]
  },
  {
   "cell_type": "markdown",
   "metadata": {},
   "source": [
    "#### Importing Python packages"
   ]
  },
  {
   "cell_type": "code",
   "execution_count": 1,
   "metadata": {
    "execution": {
     "iopub.status.idle": "2021-03-14T21:42:01.076155Z",
     "shell.execute_reply": "2021-03-14T21:42:01.075536Z",
     "shell.execute_reply.started": "2021-03-14T21:42:00.639153Z"
    }
   },
   "outputs": [],
   "source": [
    "# Importing Python packages \n",
    "import pandas as pd\n",
    "import cassandra\n",
    "import re\n",
    "import os\n",
    "import glob\n",
    "import numpy as np\n",
    "import json\n",
    "import csv"
   ]
  },
  {
   "cell_type": "markdown",
   "metadata": {},
   "source": [
    "#### Creating list of filepaths to process original event csv data files"
   ]
  },
  {
   "cell_type": "code",
   "execution_count": 2,
   "metadata": {
    "execution": {
     "iopub.execute_input": "2021-03-14T21:42:01.079089Z",
     "iopub.status.busy": "2021-03-14T21:42:01.078925Z",
     "iopub.status.idle": "2021-03-14T21:42:01.084189Z",
     "shell.execute_reply": "2021-03-14T21:42:01.083413Z",
     "shell.execute_reply.started": "2021-03-14T21:42:01.079069Z"
    }
   },
   "outputs": [
    {
     "name": "stdout",
     "output_type": "stream",
     "text": [
      "/home/kellermann/git_repo/sparkify_nosql\n"
     ]
    }
   ],
   "source": [
    "# checking your current working directory\n",
    "print(os.getcwd())\n",
    "\n",
    "# Get your current folder and subfolder event data\n",
    "filepath = os.getcwd() + '/event_data'\n",
    "\n",
    "# Create a for loop to create a list of files and collect each filepath\n",
    "for root, dirs, files in os.walk(filepath):\n",
    "# join the file path and roots with the subdirectories using glob\n",
    "    file_path_list = glob.glob(os.path.join(root,'*'))\n",
    "    #print(file_path_list)"
   ]
  },
  {
   "cell_type": "markdown",
   "metadata": {},
   "source": [
    "#### Processing the files to create the data file csv that will be used for Apache Casssandra tables"
   ]
  },
  {
   "cell_type": "code",
   "execution_count": 3,
   "metadata": {
    "execution": {
     "iopub.execute_input": "2021-03-14T21:42:01.086323Z",
     "iopub.status.busy": "2021-03-14T21:42:01.085971Z",
     "iopub.status.idle": "2021-03-14T21:42:01.160888Z",
     "shell.execute_reply": "2021-03-14T21:42:01.160286Z",
     "shell.execute_reply.started": "2021-03-14T21:42:01.086284Z"
    }
   },
   "outputs": [],
   "source": [
    "# initiating an empty list of rows that will be generated from each file\n",
    "full_data_rows_list = [] \n",
    "    \n",
    "# for every filepath in the file path list \n",
    "for f in file_path_list:\n",
    "\n",
    "# reading csv file \n",
    "    with open(f, 'r', encoding = 'utf8', newline='') as csvfile: \n",
    "        # creating a csv reader object \n",
    "        csvreader = csv.reader(csvfile) \n",
    "        next(csvreader)\n",
    "        \n",
    " # extracting each data row one by one and append it        \n",
    "        for line in csvreader:\n",
    "            #print(line)\n",
    "            full_data_rows_list.append(line) \n",
    "            \n",
    "# uncomment the code below if you would like to get total number of rows \n",
    "# print(len(full_data_rows_list))\n",
    "# uncomment the code below if you would like to check to see what the list of event data rows will look like\n",
    "# print(full_data_rows_list)\n",
    "\n",
    "# creating a smaller event data csv file called event_datafile_full csv that will be used to insert data into the \\\n",
    "# Apache Cassandra tables\n",
    "csv.register_dialect('myDialect', quoting=csv.QUOTE_ALL, skipinitialspace=True)\n",
    "\n",
    "with open('event_datafile_new.csv', 'w', encoding = 'utf8', newline='') as f:\n",
    "    writer = csv.writer(f, dialect='myDialect')\n",
    "    writer.writerow(['artist','firstName','gender','itemInSession','lastName','length',\\\n",
    "                'level','location','sessionId','song','userId'])\n",
    "    for row in full_data_rows_list:\n",
    "        if (row[0] == ''):\n",
    "            continue\n",
    "        writer.writerow((row[0], row[2], row[3], row[4], row[5], row[6], row[7], row[8], row[12], row[13], row[16]))\n"
   ]
  },
  {
   "cell_type": "code",
   "execution_count": 4,
   "metadata": {
    "execution": {
     "iopub.execute_input": "2021-03-14T21:42:01.162272Z",
     "iopub.status.busy": "2021-03-14T21:42:01.162047Z",
     "iopub.status.idle": "2021-03-14T21:42:01.171229Z",
     "shell.execute_reply": "2021-03-14T21:42:01.170547Z",
     "shell.execute_reply.started": "2021-03-14T21:42:01.162247Z"
    }
   },
   "outputs": [
    {
     "name": "stdout",
     "output_type": "stream",
     "text": [
      "6821\n"
     ]
    }
   ],
   "source": [
    "# check the number of rows in your csv file\n",
    "with open('event_datafile_new.csv', 'r', encoding = 'utf8') as f:\n",
    "    print(sum(1 for line in f))"
   ]
  },
  {
   "cell_type": "markdown",
   "metadata": {},
   "source": [
    "# Part II. Complete the Apache Cassandra coding portion of your project. \n",
    "---\n",
    "\n",
    "## Now you are ready to work with the CSV file titled <font color=red>event_datafile_new.csv</font>, located within the Workspace directory.  The event_datafile_new.csv contains the following columns: \n",
    "\n",
    "- artist \n",
    "- firstName of user\n",
    "- gender of user\n",
    "- item number in session\n",
    "- last name of user\n",
    "- length of the song\n",
    "- level (paid or free song)\n",
    "- location of the user\n",
    "- sessionId\n",
    "- song title\n",
    "- userId\n",
    "\n",
    "The image below is a screenshot of what the denormalized data should appear like in the <font color=red>**event_datafile_new.csv**</font> after the code above is run:<br>\n",
    "\n",
    "<img src=\"images/image_event_datafile_new.jpg\">"
   ]
  },
  {
   "cell_type": "markdown",
   "metadata": {},
   "source": [
    "## Begin writing Apache Cassandra code in the cells below\n",
    "---"
   ]
  },
  {
   "cell_type": "markdown",
   "metadata": {},
   "source": [
    "#### Creating a Cluster"
   ]
  },
  {
   "cell_type": "code",
   "execution_count": 5,
   "metadata": {
    "execution": {
     "iopub.execute_input": "2021-03-14T21:42:01.172415Z",
     "iopub.status.busy": "2021-03-14T21:42:01.172191Z",
     "iopub.status.idle": "2021-03-14T21:42:01.509131Z",
     "shell.execute_reply": "2021-03-14T21:42:01.508318Z",
     "shell.execute_reply.started": "2021-03-14T21:42:01.172389Z"
    }
   },
   "outputs": [],
   "source": [
    "# This should make a connection to a Cassandra instance your local machine .\n",
    "# (loopback IP 127.0.0.1 or hostname localhost)\n",
    "from cassandra.cluster import Cluster\n",
    "cluster = Cluster()\n",
    "\n",
    "# To establish connection and begin executing queries we need a session:\n",
    "session = cluster.connect()"
   ]
  },
  {
   "cell_type": "markdown",
   "metadata": {},
   "source": [
    "#### Create Keyspace"
   ]
  },
  {
   "cell_type": "code",
   "execution_count": 6,
   "metadata": {
    "execution": {
     "iopub.execute_input": "2021-03-14T21:42:01.511224Z",
     "iopub.status.busy": "2021-03-14T21:42:01.510786Z",
     "iopub.status.idle": "2021-03-14T21:42:01.535477Z",
     "shell.execute_reply": "2021-03-14T21:42:01.533961Z",
     "shell.execute_reply.started": "2021-03-14T21:42:01.511150Z"
    }
   },
   "outputs": [
    {
     "data": {
      "text/plain": [
       "<cassandra.cluster.ResultSet at 0x7fd6fc646e80>"
      ]
     },
     "execution_count": 6,
     "metadata": {},
     "output_type": "execute_result"
    }
   ],
   "source": [
    "# Creating keyspace.\n",
    "set_ks = 'sparkify_ks'\n",
    "create_keyspace = \"\"\"create keyspace if not exists %s with replication = {'class': 'SimpleStrategy', 'replication_factor':1}\"\"\"%(set_ks)\n",
    "session.execute(create_keyspace)"
   ]
  },
  {
   "cell_type": "markdown",
   "metadata": {},
   "source": [
    "#### Set Keyspace"
   ]
  },
  {
   "cell_type": "code",
   "execution_count": 7,
   "metadata": {
    "execution": {
     "iopub.execute_input": "2021-03-14T21:42:01.539813Z",
     "iopub.status.busy": "2021-03-14T21:42:01.538211Z",
     "iopub.status.idle": "2021-03-14T21:42:01.559061Z",
     "shell.execute_reply": "2021-03-14T21:42:01.557281Z",
     "shell.execute_reply.started": "2021-03-14T21:42:01.539543Z"
    }
   },
   "outputs": [],
   "source": [
    "# Set KEYSPACE to the keyspace specified above\n",
    "session.set_keyspace(set_ks)"
   ]
  },
  {
   "cell_type": "markdown",
   "metadata": {},
   "source": [
    "### Now we need to create tables to run the following queries. Remember, with Apache Cassandra you model the database tables on the queries you want to run."
   ]
  },
  {
   "cell_type": "markdown",
   "metadata": {},
   "source": [
    "## Create queries to ask the following three questions of the data\n",
    "\n",
    "1. Give me the artist, song title and song's length in the music app history that was heard during  sessionId = 338, and itemInSession  = 4.\n",
    "2. Give me only the following: name of artist, song (sorted by itemInSession) and user (first and last name) for userid = 10, sessionid = 182.\n",
    "3. Give me every user name (first and last) in my music app history who listened to the song 'All Hands Against His Own'."
   ]
  },
  {
   "cell_type": "markdown",
   "metadata": {},
   "source": [
    "## Table #1: artist and song in a session\n",
    "---\n",
    "Question to answer:\n",
    "```Quote\n",
    "1. Give me the artist, song title and song's length in the music app history that was heard during  sessionId = 338, and itemInSession  = 4.\n",
    "```\n",
    "\n",
    "Here we need to create a table which primary key is composed by `session_id` and `item_in_session`, where `session_id` it's the partition key.\n",
    "Partitioning by `session_id` guarantees that all records for the same session will be stored in the same partition."
   ]
  },
  {
   "cell_type": "code",
   "execution_count": 8,
   "metadata": {
    "execution": {
     "iopub.execute_input": "2021-03-14T21:42:01.563597Z",
     "iopub.status.busy": "2021-03-14T21:42:01.562951Z",
     "iopub.status.idle": "2021-03-14T21:42:01.575266Z",
     "shell.execute_reply": "2021-03-14T21:42:01.573950Z",
     "shell.execute_reply.started": "2021-03-14T21:42:01.563528Z"
    }
   },
   "outputs": [
    {
     "data": {
      "text/plain": [
       "<cassandra.cluster.ResultSet at 0x7fd6f80e4160>"
      ]
     },
     "execution_count": 8,
     "metadata": {},
     "output_type": "execute_result"
    }
   ],
   "source": [
    "create1 = \"\"\"create table if not exists session( session_id smallint\n",
    "                                                ,item_in_session smallint\n",
    "                                                ,artist_name varchar\n",
    "                                                ,song_length float\n",
    "                                                ,song_title varchar\n",
    "                                                ,primary key(session_id, item_in_session));\"\"\"\n",
    "session.execute(create1)"
   ]
  },
  {
   "cell_type": "code",
   "execution_count": 9,
   "metadata": {
    "execution": {
     "iopub.execute_input": "2021-03-14T21:42:01.578732Z",
     "iopub.status.busy": "2021-03-14T21:42:01.577977Z",
     "iopub.status.idle": "2021-03-14T21:42:06.201201Z",
     "shell.execute_reply": "2021-03-14T21:42:06.200686Z",
     "shell.execute_reply.started": "2021-03-14T21:42:01.578658Z"
    }
   },
   "outputs": [],
   "source": [
    "file = \"event_datafile_new.csv\"\n",
    "insert1 = \"insert into session(session_id, item_in_session, artist_name,  song_length,  song_title)\"\n",
    "\n",
    "with open(file, encoding = 'utf8') as f:\n",
    "    csvreader = csv.reader(f)\n",
    "    next(csvreader) # skip header\n",
    "    for line in csvreader:\n",
    "\n",
    "        #  0 artist_name\n",
    "        #  1 user_first_name\n",
    "        #  2 gender\n",
    "        #  3 item_in_session\n",
    "        #  4 user_last_name\n",
    "        #  5 song_length\n",
    "        #  6 level \n",
    "        #  7 location\n",
    "        #  8 session_id\n",
    "        #  9 song_title\n",
    "        #  10 user_id\n",
    "        query = insert1 + \" values(%s, %s, %s, %s, %s)\"\"\"\n",
    "        session.execute(query, (int(line[8]), int(line[3]), line[0], float(line[5]), line[9]))"
   ]
  },
  {
   "cell_type": "markdown",
   "metadata": {},
   "source": [
    "#### Validating table #1\n",
    "\n",
    "Here we test by appliying a query that answers question #1."
   ]
  },
  {
   "cell_type": "code",
   "execution_count": 10,
   "metadata": {
    "execution": {
     "iopub.execute_input": "2021-03-14T21:42:06.202228Z",
     "iopub.status.busy": "2021-03-14T21:42:06.202020Z",
     "iopub.status.idle": "2021-03-14T21:42:06.208172Z",
     "shell.execute_reply": "2021-03-14T21:42:06.207545Z",
     "shell.execute_reply.started": "2021-03-14T21:42:06.202201Z"
    },
    "scrolled": true
   },
   "outputs": [
    {
     "name": "stdout",
     "output_type": "stream",
     "text": [
      "\n",
      "    Artist: Faithless.\n",
      "    Song title: Music Matters (Mark Knight Dub).\n",
      "    Song length: 495.30731201171875.\n"
     ]
    }
   ],
   "source": [
    "# Validating:\n",
    "## select statement for session_id = 338, item_in_session = 4.\n",
    "select1 = \"\"\"select artist_name\n",
    "                  , song_title\n",
    "                  , song_length\n",
    "            from session where session_id = 338 and item_in_session = 4;\"\"\"\n",
    "\n",
    "results1 = session.execute(select1)\n",
    "for row in results1:\n",
    "    print(f\"\"\"\n",
    "    Artist: {row.artist_name}.\n",
    "    Song title: {row.song_title}.\n",
    "    Song length: {row.song_length}.\"\"\")"
   ]
  },
  {
   "cell_type": "markdown",
   "metadata": {},
   "source": [
    "## Table #2: songs played by user and which session was\n",
    "---\n",
    "Question to answer:\n",
    "```Quote\n",
    "2. Give me only the following: name of artist, song (sorted by itemInSession) and user (first and last name) for userid = 10, sessionid = 182.\n",
    "```\n",
    "\n",
    "Here we need to create a table which primary key is composed by `user_id`, `session_id` and `item_in_session`. Here we need a composed partition key made up `user_id` and `session_id` to guarantee that all records for an user in a session is stored in the same partition. The `ìtem_in_session` is the clustering column that will show us in which order the songs were played by an user. This collumn will appear in ascending sorted order."
   ]
  },
  {
   "cell_type": "code",
   "execution_count": 11,
   "metadata": {
    "execution": {
     "iopub.execute_input": "2021-03-14T21:42:06.209461Z",
     "iopub.status.busy": "2021-03-14T21:42:06.209201Z",
     "iopub.status.idle": "2021-03-14T21:42:12.591211Z",
     "shell.execute_reply": "2021-03-14T21:42:12.590545Z",
     "shell.execute_reply.started": "2021-03-14T21:42:06.209428Z"
    }
   },
   "outputs": [],
   "source": [
    "create2 = \"\"\"create table if not exists user_session(user_id  smallint\n",
    "                                                    ,session_id  smallint\n",
    "                                                    ,item_in_session smallint\n",
    "                                                    ,artist_name varchar\n",
    "                                                    ,song_title  varchar\n",
    "                                                    ,user_first_name  varchar\n",
    "                                                    ,user_last_name  varchar\n",
    "                                                    ,primary key((user_id, session_id), item_in_session));\"\"\"\n",
    "\n",
    "session.execute(create2)\n",
    "\n",
    "insert2 = \"insert into user_session(user_id, session_id, item_in_session, artist_name, song_title, user_first_name, user_last_name)\"\n",
    "with open(file, encoding = 'utf8') as f:\n",
    "    csvreader = csv.reader(f)\n",
    "    next(csvreader) # skip header\n",
    "    for line in csvreader:\n",
    "        \n",
    "        #  0 artist_name\n",
    "        #  1 user_first_name\n",
    "        #  2 gender\n",
    "        #  3 item_in_session\n",
    "        #  4 user_last_name\n",
    "        #  5 song_length\n",
    "        #  6 level \n",
    "        #  7 location\n",
    "        #  8 session_id\n",
    "        #  9 song_title\n",
    "        #  10 user_id\n",
    "        query = insert2 + \" values(%s, %s, %s, %s, %s, %s, %s)\"\"\"\n",
    "        session.execute(query, (int(line[10]),  int(line[8]), int(line[3]), line[0], line[9], line[1], line[4]))"
   ]
  },
  {
   "cell_type": "markdown",
   "metadata": {},
   "source": [
    "#### Validating table #2\n",
    "\n",
    "Here we test by appliying a query that answers question #2."
   ]
  },
  {
   "cell_type": "code",
   "execution_count": 12,
   "metadata": {
    "execution": {
     "iopub.execute_input": "2021-03-14T21:42:12.592410Z",
     "iopub.status.busy": "2021-03-14T21:42:12.592204Z",
     "iopub.status.idle": "2021-03-14T21:42:12.599183Z",
     "shell.execute_reply": "2021-03-14T21:42:12.598447Z",
     "shell.execute_reply.started": "2021-03-14T21:42:12.592384Z"
    }
   },
   "outputs": [
    {
     "name": "stdout",
     "output_type": "stream",
     "text": [
      "\n",
      "    Artist: Down To The Bone.\n",
      "    Song title: Keep On Keepin' On.\n",
      "    User name: Sylvie Cruz.\n",
      "    User id: 10.\n",
      "    Session id: 182.\n",
      "    Item in session: 0.\n",
      "\n",
      "    Artist: Three Drives.\n",
      "    Song title: Greece 2000.\n",
      "    User name: Sylvie Cruz.\n",
      "    User id: 10.\n",
      "    Session id: 182.\n",
      "    Item in session: 1.\n",
      "\n",
      "    Artist: Sebastien Tellier.\n",
      "    Song title: Kilometer.\n",
      "    User name: Sylvie Cruz.\n",
      "    User id: 10.\n",
      "    Session id: 182.\n",
      "    Item in session: 2.\n",
      "\n",
      "    Artist: Lonnie Gordon.\n",
      "    Song title: Catch You Baby (Steve Pitron & Max Sanna Radio Edit).\n",
      "    User name: Sylvie Cruz.\n",
      "    User id: 10.\n",
      "    Session id: 182.\n",
      "    Item in session: 3.\n"
     ]
    }
   ],
   "source": [
    "# Validating:\n",
    "## select statement for userid = 10, sessionid = 182.\n",
    "select2 = \"\"\"select artist_name \n",
    "                    ,song_title\n",
    "                    ,user_first_name\n",
    "                    ,user_last_name\n",
    "                    ,user_id\n",
    "                    ,session_id\n",
    "                    ,item_in_session\n",
    "            from user_session where user_id = 10 and session_id = 182;\"\"\"\n",
    "\n",
    "results2 = session.execute(select2)\n",
    "for row in results2:\n",
    "    print(f\"\"\"\n",
    "    Artist: {row.artist_name}.\n",
    "    Song title: {row.song_title}.\n",
    "    User name: {row.user_first_name} {row.user_last_name}.\n",
    "    User id: {row.user_id}.\n",
    "    Session id: {row.session_id}.\n",
    "    Item in session: {row.item_in_session}.\"\"\")"
   ]
  },
  {
   "cell_type": "markdown",
   "metadata": {},
   "source": [
    "## Table #3: name of an user who played an specific song independently from session or order.\n",
    "---\n",
    "Question to answer:\n",
    "```Quote\n",
    "3. Give me every user name (first and last) in my music app history who listened to the song 'All Hands Against His Own'.\n",
    "```\n",
    "\n",
    "Here we need to create a table which primary key is composed by `song_title` and `user_id`, where `song_title` is the partition key and `user_id` is the clustering column. By using `song_title` as a partition key we guarantee that all records for a song is stored in the same partition and by using `user_id` as clustering column sort the order at which the users appears by they *id* instead of their names."
   ]
  },
  {
   "cell_type": "code",
   "execution_count": 13,
   "metadata": {
    "execution": {
     "iopub.execute_input": "2021-03-14T21:42:12.600369Z",
     "iopub.status.busy": "2021-03-14T21:42:12.600154Z",
     "iopub.status.idle": "2021-03-14T21:42:16.558628Z",
     "shell.execute_reply": "2021-03-14T21:42:16.557717Z",
     "shell.execute_reply.started": "2021-03-14T21:42:12.600344Z"
    }
   },
   "outputs": [],
   "source": [
    "create3 = \"\"\"create table if not exists user_history( song_title  varchar\n",
    "                                                     ,user_id smallint\n",
    "                                                     ,user_first_name  varchar\n",
    "                                                     ,user_last_name  varchar\n",
    "                                                     ,primary key((song_title), user_id));\"\"\"\n",
    "session.execute(create3)\n",
    "\n",
    "insert3 = \"insert into user_history(song_title, user_id, user_first_name, user_last_name)\"\n",
    "\n",
    "with open(file, encoding = 'utf8') as f:\n",
    "    csvreader = csv.reader(f)\n",
    "    next(csvreader) # skip header\n",
    "    for line in csvreader:\n",
    "        \n",
    "        #  0 artist_name\n",
    "        #  1 user_first_name\n",
    "        #  2 gender\n",
    "        #  3 item_in_session\n",
    "        #  4 user_last_name\n",
    "        #  5 song_length\n",
    "        #  6 level \n",
    "        #  7 location\n",
    "        #  8 session_id\n",
    "        #  9 song_title\n",
    "        #  10 user_id\n",
    "        query = insert3 + \" values(%s, %s, %s, %s)\"\"\"\n",
    "        session.execute(query, (line[9], int(line[10]), line[1], line[4],))"
   ]
  },
  {
   "cell_type": "markdown",
   "metadata": {
    "execution": {
     "iopub.execute_input": "2021-03-15T11:41:00.899850Z",
     "iopub.status.busy": "2021-03-15T11:41:00.899427Z",
     "iopub.status.idle": "2021-03-15T11:41:00.908426Z",
     "shell.execute_reply": "2021-03-15T11:41:00.906677Z",
     "shell.execute_reply.started": "2021-03-15T11:41:00.899743Z"
    }
   },
   "source": [
    "#### Validating table #3\n",
    "\n",
    "Here we test by appliying a query that answers question #3."
   ]
  },
  {
   "cell_type": "code",
   "execution_count": 14,
   "metadata": {
    "execution": {
     "iopub.execute_input": "2021-03-14T21:42:16.559887Z",
     "iopub.status.busy": "2021-03-14T21:42:16.559627Z",
     "iopub.status.idle": "2021-03-14T21:42:16.574349Z",
     "shell.execute_reply": "2021-03-14T21:42:16.572724Z",
     "shell.execute_reply.started": "2021-03-14T21:42:16.559854Z"
    }
   },
   "outputs": [
    {
     "name": "stdout",
     "output_type": "stream",
     "text": [
      "User name: Jacqueline Lynch.\n",
      "User name: Tegan Levine.\n",
      "User name: Sara Johnson.\n"
     ]
    }
   ],
   "source": [
    "# Validating:\n",
    "# select statement to get every user name (first and last) in my music app history who listened to the song 'All Hands Against His Own'.\n",
    "\n",
    "song_title = 'All Hands Against His Own'\n",
    "\n",
    "select3 = f\"\"\"select user_first_name\n",
    "                    , user_last_name \n",
    "              from user_history \n",
    "                    where song_title = '{song_title}';\"\"\"\n",
    "\n",
    "results3 = session.execute(select3)\n",
    "for row in results3:\n",
    "    print(f\"\"\"User name: {row.user_first_name} {row.user_last_name}.\"\"\")"
   ]
  },
  {
   "cell_type": "markdown",
   "metadata": {},
   "source": [
    "### Drop the tables before closing out the sessions"
   ]
  },
  {
   "cell_type": "code",
   "execution_count": 15,
   "metadata": {
    "execution": {
     "iopub.execute_input": "2021-03-14T21:42:16.579268Z",
     "iopub.status.busy": "2021-03-14T21:42:16.578045Z",
     "iopub.status.idle": "2021-03-14T21:42:18.050763Z",
     "shell.execute_reply": "2021-03-14T21:42:18.049381Z",
     "shell.execute_reply.started": "2021-03-14T21:42:16.579132Z"
    }
   },
   "outputs": [
    {
     "data": {
      "text/plain": [
       "<cassandra.cluster.ResultSet at 0x7fd6c7756880>"
      ]
     },
     "execution_count": 15,
     "metadata": {},
     "output_type": "execute_result"
    }
   ],
   "source": [
    "session.execute('drop table if exists session;')\n",
    "session.execute('drop table if exists user_session;')\n",
    "session.execute('drop table if exists user_history;')"
   ]
  },
  {
   "cell_type": "markdown",
   "metadata": {},
   "source": [
    "### Close the session and cluster connection¶"
   ]
  },
  {
   "cell_type": "code",
   "execution_count": 16,
   "metadata": {
    "execution": {
     "iopub.execute_input": "2021-03-14T21:42:18.053147Z",
     "iopub.status.busy": "2021-03-14T21:42:18.052612Z",
     "iopub.status.idle": "2021-03-14T21:42:18.140664Z",
     "shell.execute_reply": "2021-03-14T21:42:18.139007Z",
     "shell.execute_reply.started": "2021-03-14T21:42:18.053087Z"
    }
   },
   "outputs": [],
   "source": [
    "session.shutdown()\n",
    "cluster.shutdown()"
   ]
  },
  {
   "cell_type": "markdown",
   "metadata": {},
   "source": [
    "<center>end</center>"
   ]
  }
 ],
 "metadata": {
  "kernelspec": {
   "display_name": "Python 3",
   "language": "python",
   "name": "python3"
  },
  "language_info": {
   "codemirror_mode": {
    "name": "ipython",
    "version": 3
   },
   "file_extension": ".py",
   "mimetype": "text/x-python",
   "name": "python",
   "nbconvert_exporter": "python",
   "pygments_lexer": "ipython3",
   "version": "3.9.2"
  }
 },
 "nbformat": 4,
 "nbformat_minor": 4
}
